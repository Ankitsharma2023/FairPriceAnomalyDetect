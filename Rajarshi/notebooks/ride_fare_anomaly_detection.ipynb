{
 "cells": [
  {
   "cell_type": "markdown",
   "id": "e7709c20",
   "metadata": {},
   "source": [
    "# Ride Fare Anomaly Detection - Data Exploration"
   ]
  },
  {
   "cell_type": "code",
   "execution_count": null,
   "id": "9809971a",
   "metadata": {},
   "outputs": [],
   "source": [
    "import pandas as pd\n",
    "\n",
    "import numpy as np\n",
    "\n",
    "import matplotlib.pyplot as plt\n",
    "\n",
    "import seaborn as sns\n",
    "\n",
    "from sklearn.preprocessing import StandardScaler\n",
    "\n",
    "from sklearn.ensemble import IsolationForest"
   ]
  },
  {
   "cell_type": "code",
   "execution_count": null,
   "id": "04e66565",
   "metadata": {},
   "outputs": [],
   "source": [
    "# Load the dataset\n",
    "\n",
    "df = pd.read_csv('../data/ride_fares.csv')"
   ]
  },
  {
   "cell_type": "code",
   "execution_count": null,
   "id": "d28ccc2c",
   "metadata": {},
   "outputs": [],
   "source": [
    "# Basic data exploration\n",
    "\n",
    "print(df.info())\n",
    "\n",
    "print(\"\\nDescriptive Statistics:\")\n",
    "\n",
    "print(df.describe())"
   ]
  },
  {
   "cell_type": "code",
   "execution_count": null,
   "id": "35462078",
   "metadata": {},
   "outputs": [],
   "source": [
    "# Visualize distribution of fares\n",
    "\n",
    "plt.figure(figsize=(10, 6))\n",
    "\n",
    "sns.histplot(df['fare'], kde=True)\n",
    "\n",
    "plt.title('Distribution of Ride Fares')\n",
    "\n",
    "plt.xlabel('Fare')\n",
    "\n",
    "plt.ylabel('Frequency')\n",
    "\n",
    "plt.show()"
   ]
  },
  {
   "cell_type": "code",
   "execution_count": null,
   "id": "4611c3c6",
   "metadata": {},
   "outputs": [],
   "source": [
    "# Scatter plot of distance vs fare\n",
    "\n",
    "plt.figure(figsize=(10, 6))\n",
    "\n",
    "plt.scatter(df['pickup_distance'] + df['drop_distance'], df['fare'])\n",
    "\n",
    "plt.title('Total Distance vs Fare')\n",
    "\n",
    "plt.xlabel('Total Distance (km)')\n",
    "\n",
    "plt.ylabel('Fare')\n",
    "\n",
    "plt.show()"
   ]
  },
  {
   "cell_type": "code",
   "execution_count": null,
   "id": "61ac2615",
   "metadata": {},
   "outputs": [],
   "source": [
    "# Prepare data for Isolation Forest\n",
    "\n",
    "features = ['pickup_distance', 'drop_distance', 'fare']\n",
    "\n",
    "X = df[features]\n",
    "\n",
    "\n",
    "\n",
    "# Scale features\n",
    "\n",
    "scaler = StandardScaler()\n",
    "\n",
    "X_scaled = scaler.fit_transform(X)"
   ]
  },
  {
   "cell_type": "code",
   "execution_count": null,
   "id": "a86cebff",
   "metadata": {},
   "outputs": [],
   "source": [
    "# Train Isolation Forest\n",
    "\n",
    "iso_forest = IsolationForest(contamination=0.1, random_state=42)\n",
    "\n",
    "iso_forest.fit(X_scaled)"
   ]
  },
  {
   "cell_type": "code",
   "execution_count": null,
   "id": "432f52af",
   "metadata": {},
   "outputs": [],
   "source": [
    "# Predict anomalies\n",
    "\n",
    "df['anomaly'] = iso_forest.predict(X_scaled)\n",
    "\n",
    "anomalies = df[df['anomaly'] == -1]\n",
    "\n",
    "\n",
    "\n",
    "print(\"\\nAnomaly Statistics:\")\n",
    "\n",
    "print(anomalies)"
   ]
  },
  {
   "cell_type": "code",
   "execution_count": null,
   "id": "47551a32",
   "metadata": {},
   "outputs": [],
   "source": [
    "# Visualize anomalies\n",
    "\n",
    "plt.figure(figsize=(12, 6))\n",
    "\n",
    "plt.scatter(df['pickup_distance'] + df['drop_distance'], df['fare'], c=df['anomaly'], cmap='viridis')\n",
    "\n",
    "plt.title('Anomaly Detection in Ride Fares')\n",
    "\n",
    "plt.xlabel('Total Distance (km)')\n",
    "\n",
    "plt.ylabel('Fare')\n",
    "\n",
    "plt.colorbar(label='Anomaly')\n",
    "\n",
    "plt.show()"
   ]
  }
 ],
 "metadata": {},
 "nbformat": 4,
 "nbformat_minor": 5
}
